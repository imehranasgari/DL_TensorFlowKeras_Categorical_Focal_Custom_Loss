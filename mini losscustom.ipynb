{
 "cells": [
  {
   "cell_type": "code",
   "execution_count": 1,
   "id": "d1f1da4c-0cba-4b0a-bb79-c7c93f792a98",
   "metadata": {},
   "outputs": [],
   "source": [
    "import tensorflow as tf\n",
    "from tensorflow import keras"
   ]
  },
  {
   "cell_type": "markdown",
   "id": "4ed60f84-7247-4743-acd7-4f506b606dd7",
   "metadata": {},
   "source": [
    "مثلا در اینجا یک تابع برای لاجستیک می نویسیم که هر میزان از 0.5 فاصله گرفت خطاش بیشتر شه در وافع نمی خواهیم مدل با اطمینان حدس بزنه که اور فیت بشه"
   ]
  },
  {
   "cell_type": "code",
   "execution_count": 3,
   "id": "ceaf93c2-8522-4a78-8aa2-a2765bd36347",
   "metadata": {},
   "outputs": [],
   "source": [
    "class custom_mse (tf.keras.losses.Loss):\n",
    "    def __init__ (self , facture = 0.1 , name = 'custom mse'):\n",
    "        super(custom_mse,self).__init__(name = name)\n",
    "        self.facture = facture\n",
    "        \n",
    "    def call (self , y_true , y_pred):\n",
    "        mse = tf.math.reduce_mean(tf.math.square(y_true - y_pred))\n",
    "\n",
    "        reg = tf.math.reduce_mean(tf.math.square(0.5 - y_pred))\n",
    "\n",
    "        return mse + reg * (self.facture)"
   ]
  }
 ],
 "metadata": {
  "kernelspec": {
   "display_name": "Python [conda env:a.i] *",
   "language": "python",
   "name": "conda-env-a.i-py"
  },
  "language_info": {
   "codemirror_mode": {
    "name": "ipython",
    "version": 3
   },
   "file_extension": ".py",
   "mimetype": "text/x-python",
   "name": "python",
   "nbconvert_exporter": "python",
   "pygments_lexer": "ipython3",
   "version": "3.10.13"
  }
 },
 "nbformat": 4,
 "nbformat_minor": 5
}
